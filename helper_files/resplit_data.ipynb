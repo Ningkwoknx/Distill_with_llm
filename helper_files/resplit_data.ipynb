{
 "cells": [
  {
   "cell_type": "code",
   "execution_count": 3,
   "id": "1da0bdbd-92d2-462b-9749-7bbb32c67d57",
   "metadata": {},
   "outputs": [],
   "source": [
    "file_path = \"data/new_portion_processed/zmean_dataset.tsv\"   \n",
    "df = pd.read_csv(file_path, sep=\"\\t\")           "
   ]
  },
  {
   "cell_type": "code",
   "execution_count": 4,
   "id": "25f32349-16a0-4a00-b04c-23c0af693307",
   "metadata": {},
   "outputs": [],
   "source": [
    "train_df, temp_df = train_test_split(df, test_size=0.2, random_state=42)\n"
   ]
  },
  {
   "cell_type": "code",
   "execution_count": 5,
   "id": "1f208bac-126c-4321-83ea-46801a28b2c2",
   "metadata": {},
   "outputs": [],
   "source": [
    "dev_df, test_df = train_test_split(temp_df, test_size=0.5, random_state=42)\n"
   ]
  },
  {
   "cell_type": "code",
   "execution_count": 6,
   "id": "5aec0008-70b4-423c-8fc3-bdaf8fb0afcf",
   "metadata": {},
   "outputs": [
    {
     "name": "stdout",
     "output_type": "stream",
     "text": [
      "Total: 144762 rows\n",
      "Train: 115809 rows\n",
      "Dev: 14476 rows\n",
      "Test: 14477 rows\n"
     ]
    }
   ],
   "source": [
    "print(f\"Total: {len(df)} rows\")\n",
    "print(f\"Train: {len(train_df)} rows\")\n",
    "print(f\"Dev: {len(dev_df)} rows\")\n",
    "print(f\"Test: {len(test_df)} rows\")"
   ]
  },
  {
   "cell_type": "code",
   "execution_count": 8,
   "id": "56efb0c8-aab4-4294-9ab4-d8e7e9d6e02a",
   "metadata": {},
   "outputs": [],
   "source": [
    "train_df.to_csv(\"data/new_portion_processed/zmean_train_80.tsv\", sep=\"\\t\",index=False)\n",
    "dev_df.to_csv(\"data/new_portion_processed/zmean_dev_10.tsv\", sep=\"\\t\",index=False)\n",
    "test_df.to_csv(\"data/new_portion_processed/zmean_test_10.tsv\", sep=\"\\t\",index=False)"
   ]
  },
  {
   "cell_type": "code",
   "execution_count": 9,
   "id": "078df1ca-420e-4022-a0f8-08279542297e",
   "metadata": {},
   "outputs": [],
   "source": [
    "df = pd.read_csv(\"data/new_portion_processed/zmean_train_80.tsv\", sep='\\t')\n",
    "data = df[['src', 'mt']].to_dict(orient='records')"
   ]
  },
  {
   "cell_type": "code",
   "execution_count": 10,
   "id": "40a70797-c5e9-4995-ab47-02ff8a671015",
   "metadata": {},
   "outputs": [
    {
     "name": "stdout",
     "output_type": "stream",
     "text": [
      "{'src': 'Many productions were musicals, comedies, melodramas or westerns.', 'mt': 'Viele Produktionen waren Musicals, Komödien, Melodramen oder Western.'}\n",
      "{'src': 'Kerala Granthasala Sangham was founded in 1945, and it evolved, in a short span of time, into a very big cultural, social and educational platform, in the State having about 4000 libraries affiliated to it.', 'mt': 'केरळ ग्रंथाशाला संगम या संस्थेची स्थापना 1945 मध्ये करण्यात आली आणि अतिशय कमी कालावधीत ही संस्था एक अतिशय मोठी सांस्कृतिक, सामाजिक आणि शैक्षणिक व्यासपीठ म्हणून विकसित झाली. या संस्थेशी सुमारे 4000 ग्रंथालये संलग्न आहेत.'}\n",
      "{'src': 'These weekly calls always made her feel a little melancholy, though she’d never mention that.', 'mt': 'இந்த வாராந்திர சந்திப்புகள் எப்போதும் அவளை கொஞ்சம் சோகமாக உணரச் செய்தன, ஆனால் அவள் அதை ஒருபோதும் குறிப்பிடவில்லை.'}\n"
     ]
    }
   ],
   "source": [
    "for item in data[:3]:\n",
    "    print(item)"
   ]
  },
  {
   "cell_type": "code",
   "execution_count": 11,
   "id": "f4cffc9e-6aa4-4d67-8e0e-60e95d051e7c",
   "metadata": {},
   "outputs": [],
   "source": [
    "import json\n",
    "\n",
    "with open(\"data/new_portion_processed/zmean_train_pairs.json\", \"w\", encoding=\"utf-8\") as f:\n",
    "    json.dump(data, f, ensure_ascii=False, indent=4)"
   ]
  },
  {
   "cell_type": "code",
   "execution_count": null,
   "id": "95505840-6786-4d5d-8f55-6ab842294841",
   "metadata": {},
   "outputs": [],
   "source": []
  }
 ],
 "metadata": {
  "kernelspec": {
   "display_name": "Python 3 (ipykernel)",
   "language": "python",
   "name": "python3"
  },
  "language_info": {
   "codemirror_mode": {
    "name": "ipython",
    "version": 3
   },
   "file_extension": ".py",
   "mimetype": "text/x-python",
   "name": "python",
   "nbconvert_exporter": "python",
   "pygments_lexer": "ipython3",
   "version": "3.12.7"
  }
 },
 "nbformat": 4,
 "nbformat_minor": 5
}
