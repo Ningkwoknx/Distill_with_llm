{
 "cells": [
  {
   "cell_type": "code",
   "execution_count": 1,
   "id": "0aad9cf8-942e-46f4-9b62-f53c23f4f93c",
   "metadata": {},
   "outputs": [],
   "source": [
    "from comet import download_model, load_from_checkpoint"
   ]
  },
  {
   "cell_type": "code",
   "execution_count": null,
   "id": "a16d3e63-5990-4f6a-9ec2-264167dc9614",
   "metadata": {},
   "outputs": [],
   "source": [
    "model_path = \"../wmt23-cometkiwi-da-xxl/checkpoints/model.ckpt\"  # 例如：\"/home/user/models/model.ckpt\"\n",
    "\n",
    "model = load_from_checkpoint(model_path)"
   ]
  },
  {
   "cell_type": "code",
   "execution_count": null,
   "id": "d788f8d9-dfd3-4c7c-9281-468a67ce1dd6",
   "metadata": {},
   "outputs": [],
   "source": []
  }
 ],
 "metadata": {
  "kernelspec": {
   "display_name": "Python 3 (ipykernel)",
   "language": "python",
   "name": "python3"
  },
  "language_info": {
   "codemirror_mode": {
    "name": "ipython",
    "version": 3
   },
   "file_extension": ".py",
   "mimetype": "text/x-python",
   "name": "python",
   "nbconvert_exporter": "python",
   "pygments_lexer": "ipython3",
   "version": "3.12.7"
  }
 },
 "nbformat": 4,
 "nbformat_minor": 5
}
