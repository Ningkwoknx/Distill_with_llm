{
 "cells": [
  {
   "cell_type": "markdown",
   "id": "f9b2855f-f12d-4ba1-927a-ded5da89958b",
   "metadata": {},
   "source": [
    "## Paired-t Test"
   ]
  },
  {
   "cell_type": "code",
   "execution_count": 1,
   "id": "c73083b1-7d15-4457-9b2e-c41c134452fa",
   "metadata": {},
   "outputs": [],
   "source": [
    "import pandas as pd\n",
    "from scipy.stats import ttest_rel\n",
    "import numpy as np\n",
    "import matplotlib.pyplot as plt\n",
    "import seaborn as sns\n",
    "from scipy import stats"
   ]
  },
  {
   "cell_type": "code",
   "execution_count": 2,
   "id": "695e4b2a-915a-4327-a722-9c2bbcff5ae0",
   "metadata": {},
   "outputs": [],
   "source": [
    "a_df = pd.read_csv(\"results_with_code_that_finally_works/test_predictions_ground_truth_0.45.tsv\", sep=\"\\t\")\n",
    "b_df = pd.read_csv(\"results_with_code_that_finally_works/test_predictions_with_reasonings_0.48.tsv\", sep=\"\\t\")"
   ]
  },
  {
   "cell_type": "code",
   "execution_count": 3,
   "id": "383926e0-329c-4643-a158-b20e2c3bffd8",
   "metadata": {},
   "outputs": [
    {
     "data": {
      "text/html": [
       "<div>\n",
       "<style scoped>\n",
       "    .dataframe tbody tr th:only-of-type {\n",
       "        vertical-align: middle;\n",
       "    }\n",
       "\n",
       "    .dataframe tbody tr th {\n",
       "        vertical-align: top;\n",
       "    }\n",
       "\n",
       "    .dataframe thead th {\n",
       "        text-align: right;\n",
       "    }\n",
       "</style>\n",
       "<table border=\"1\" class=\"dataframe\">\n",
       "  <thead>\n",
       "    <tr style=\"text-align: right;\">\n",
       "      <th></th>\n",
       "      <th>index</th>\n",
       "      <th>src</th>\n",
       "      <th>mt</th>\n",
       "      <th>zmean</th>\n",
       "      <th>source_file</th>\n",
       "      <th>root_folder</th>\n",
       "      <th>file_type</th>\n",
       "      <th>global_index</th>\n",
       "      <th>predicted_zmean</th>\n",
       "    </tr>\n",
       "  </thead>\n",
       "  <tbody>\n",
       "    <tr>\n",
       "      <th>0</th>\n",
       "      <td>5456</td>\n",
       "      <td>The temple has a garbhagriha (sanctum sanctoru...</td>\n",
       "      <td>मंदिर में एक गर्भगृह (गर्भगृह) है, जिसमें देवत...</td>\n",
       "      <td>-0.417612</td>\n",
       "      <td>en-hi.tsv</td>\n",
       "      <td>wmt23_train</td>\n",
       "      <td>zmean</td>\n",
       "      <td>19456</td>\n",
       "      <td>-0.2620</td>\n",
       "    </tr>\n",
       "    <tr>\n",
       "      <th>1</th>\n",
       "      <td>2530</td>\n",
       "      <td>ප්‍රංශ විප්ලවය පිළිබඳ සැකය වැඩෙත්ම එයට සහාය දැ...</td>\n",
       "      <td>The suspicions of the French Revolution that s...</td>\n",
       "      <td>0.480491</td>\n",
       "      <td>si-en.tsv</td>\n",
       "      <td>wmt21_train</td>\n",
       "      <td>zmean</td>\n",
       "      <td>133292</td>\n",
       "      <td>1.0844</td>\n",
       "    </tr>\n",
       "    <tr>\n",
       "      <th>2</th>\n",
       "      <td>4131</td>\n",
       "      <td>Поступай с другими так, как ты бы хотел, чтобы...</td>\n",
       "      <td>Do to others as you would like them to do to you.</td>\n",
       "      <td>0.484324</td>\n",
       "      <td>ru-en.tsv</td>\n",
       "      <td>wmt21_train</td>\n",
       "      <td>zmean</td>\n",
       "      <td>113893</td>\n",
       "      <td>-0.3867</td>\n",
       "    </tr>\n",
       "    <tr>\n",
       "      <th>3</th>\n",
       "      <td>4289</td>\n",
       "      <td>धान पोसिया परिवारअन्तर्गत पर्दछ अनि यो एकवर्षे...</td>\n",
       "      <td>It is under the rice posia family, and it is a...</td>\n",
       "      <td>0.689497</td>\n",
       "      <td>ne-en.tsv</td>\n",
       "      <td>wmt21_train</td>\n",
       "      <td>zmean</td>\n",
       "      <td>142051</td>\n",
       "      <td>-0.0342</td>\n",
       "    </tr>\n",
       "    <tr>\n",
       "      <th>4</th>\n",
       "      <td>5008</td>\n",
       "      <td>Despite this Mithridates joined Antiochus Hier...</td>\n",
       "      <td>尽管如此 ， 米特里达斯还是加入了反对塞卢库斯的安蒂奥丘斯 · 希拉克斯。</td>\n",
       "      <td>0.546323</td>\n",
       "      <td>en-zh.tsv</td>\n",
       "      <td>wmt22_fixed</td>\n",
       "      <td>zmean</td>\n",
       "      <td>59008</td>\n",
       "      <td>0.4935</td>\n",
       "    </tr>\n",
       "  </tbody>\n",
       "</table>\n",
       "</div>"
      ],
      "text/plain": [
       "   index                                                src  \\\n",
       "0   5456  The temple has a garbhagriha (sanctum sanctoru...   \n",
       "1   2530  ප්‍රංශ විප්ලවය පිළිබඳ සැකය වැඩෙත්ම එයට සහාය දැ...   \n",
       "2   4131  Поступай с другими так, как ты бы хотел, чтобы...   \n",
       "3   4289  धान पोसिया परिवारअन्तर्गत पर्दछ अनि यो एकवर्षे...   \n",
       "4   5008  Despite this Mithridates joined Antiochus Hier...   \n",
       "\n",
       "                                                  mt     zmean source_file  \\\n",
       "0  मंदिर में एक गर्भगृह (गर्भगृह) है, जिसमें देवत... -0.417612   en-hi.tsv   \n",
       "1  The suspicions of the French Revolution that s...  0.480491   si-en.tsv   \n",
       "2  Do to others as you would like them to do to you.  0.484324   ru-en.tsv   \n",
       "3  It is under the rice posia family, and it is a...  0.689497   ne-en.tsv   \n",
       "4              尽管如此 ， 米特里达斯还是加入了反对塞卢库斯的安蒂奥丘斯 · 希拉克斯。  0.546323   en-zh.tsv   \n",
       "\n",
       "   root_folder file_type  global_index  predicted_zmean  \n",
       "0  wmt23_train     zmean         19456          -0.2620  \n",
       "1  wmt21_train     zmean        133292           1.0844  \n",
       "2  wmt21_train     zmean        113893          -0.3867  \n",
       "3  wmt21_train     zmean        142051          -0.0342  \n",
       "4  wmt22_fixed     zmean         59008           0.4935  "
      ]
     },
     "execution_count": 3,
     "metadata": {},
     "output_type": "execute_result"
    }
   ],
   "source": [
    "a_df.head()"
   ]
  },
  {
   "cell_type": "code",
   "execution_count": 4,
   "id": "ebc9e29a-60ef-42c1-80f8-cbdead8795d7",
   "metadata": {},
   "outputs": [],
   "source": [
    "errors_a = (a_df['predicted_zmean'] - a_df['zmean']).abs()\n",
    "errors_b = (b_df['predicted_zmean'] - b_df['zmean']).abs()"
   ]
  },
  {
   "cell_type": "code",
   "execution_count": 5,
   "id": "d21670c3-e484-4e30-89f5-7faa09391293",
   "metadata": {},
   "outputs": [
    {
     "name": "stdout",
     "output_type": "stream",
     "text": [
      "<class 'pandas.core.series.Series'>\n"
     ]
    }
   ],
   "source": [
    "print(type(errors_a))"
   ]
  },
  {
   "cell_type": "code",
   "execution_count": 6,
   "id": "73431aad-b50d-4bcf-b226-c1e5cd9ed394",
   "metadata": {},
   "outputs": [
    {
     "data": {
      "text/plain": [
       "0    0.155612\n",
       "1    0.603909\n",
       "2    0.871024\n",
       "3    0.723697\n",
       "4    0.052823\n",
       "dtype: float64"
      ]
     },
     "execution_count": 6,
     "metadata": {},
     "output_type": "execute_result"
    }
   ],
   "source": [
    "errors_a.head()"
   ]
  },
  {
   "cell_type": "code",
   "execution_count": 7,
   "id": "1517516a-b99b-4a8f-8f84-8bf8434ac5c3",
   "metadata": {},
   "outputs": [
    {
     "name": "stdout",
     "output_type": "stream",
     "text": [
      "errors_a NaNs: 40\n",
      "errors_b NaNs: 4\n"
     ]
    }
   ],
   "source": [
    "#Check NaN \n",
    "print(\"errors_a NaNs:\", errors_a.isna().sum())\n",
    "print(\"errors_b NaNs:\", errors_b.isna().sum())\n",
    "differences = errors_a - errors_b\n",
    "nan_indices = differences[differences.isna()].index.tolist()"
   ]
  },
  {
   "cell_type": "code",
   "execution_count": 13,
   "id": "275ad046-3d24-4a98-a9bd-7c4b30b34482",
   "metadata": {
    "scrolled": true
   },
   "outputs": [
    {
     "name": "stdout",
     "output_type": "stream",
     "text": [
      "[614, 1015, 1504, 1516, 1568, 1624, 1778, 2517, 3136, 3716, 4024, 4470, 5042, 5252, 5553, 6476, 7137, 7200, 7730, 7859, 7864, 7985, 8466, 8789, 8949, 8952, 9019, 9150, 9155, 9489, 9947, 10044, 10521, 11313, 11498, 11572, 12329, 12346, 12350, 12420, 12927, 13154, 13155, 14413]\n",
      "       predicted_zmean     zmean\n",
      "614                NaN -2.176119\n",
      "1015               NaN -0.636905\n",
      "1504               NaN  0.307589\n",
      "1516               NaN -0.292020\n",
      "1568               NaN -2.365251\n",
      "1624               NaN -2.090421\n",
      "1778            0.9350  0.634806\n",
      "2517               NaN -1.308924\n",
      "3136               NaN  0.268997\n",
      "3716               NaN  0.614327\n",
      "4024               NaN -2.365251\n",
      "4470            0.4572 -0.156482\n",
      "5042               NaN -0.260895\n",
      "5252               NaN  0.047440\n",
      "5553               NaN -2.365251\n",
      "6476               NaN -0.262080\n",
      "7137           -0.1317  0.236988\n",
      "7200               NaN -0.161689\n",
      "7730               NaN -2.200685\n",
      "7859               NaN -1.840380\n",
      "7864               NaN -0.366125\n",
      "7985               NaN -2.339309\n",
      "8466               NaN -2.417168\n",
      "8789               NaN -2.477455\n",
      "8949               NaN  0.715054\n",
      "8952               NaN -1.150137\n",
      "9019               NaN -0.262080\n",
      "9150               NaN -1.482633\n",
      "9155               NaN -0.598975\n",
      "9489               NaN -2.070534\n",
      "9947               NaN -2.070534\n",
      "10044              NaN -2.362929\n",
      "10521              NaN  0.397520\n",
      "11313              NaN -2.256937\n",
      "11498              NaN -2.242108\n",
      "11572              NaN -1.528714\n",
      "12329              NaN -0.977470\n",
      "12346              NaN -2.440584\n",
      "12350              NaN -0.244125\n",
      "12420              NaN -0.798961\n",
      "12927              NaN -2.303075\n",
      "13154           0.7686  0.580155\n",
      "13155              NaN -1.050770\n",
      "14413              NaN -1.528714\n",
      "       predicted_zmean     zmean\n",
      "614            -2.3057 -2.176119\n",
      "1015            1.0673 -0.636905\n",
      "1504            1.0002  0.307589\n",
      "1516           -1.0002 -0.292020\n",
      "1568           -2.1004 -2.365251\n",
      "1624           -1.1002 -2.090421\n",
      "1778               NaN  0.634806\n",
      "2517           -2.0344 -1.308924\n",
      "3136            0.2616  0.268997\n",
      "3716            0.7211  0.614327\n",
      "4024           -2.0161 -2.365251\n",
      "4470               NaN -0.156482\n",
      "5042           -1.0092 -0.260895\n",
      "5252           -2.0690  0.047440\n",
      "5553           -2.3097 -2.365251\n",
      "6476            0.0748 -0.262080\n",
      "7137               NaN  0.236988\n",
      "7200           -1.7170 -0.161689\n",
      "7730           -2.3009 -2.200685\n",
      "7859           -2.2430 -1.840380\n",
      "7864           -0.5210 -0.366125\n",
      "7985           -2.3059 -2.339309\n",
      "8466           -2.2009 -2.417168\n",
      "8789           -2.3051 -2.477455\n",
      "8949            0.8350  0.715054\n",
      "8952           -1.0090 -1.150137\n",
      "9019           -0.2621 -0.262080\n",
      "9150           -1.5710 -1.482633\n",
      "9155            0.0748 -0.598975\n",
      "9489           -2.3009 -2.070534\n",
      "9947           -2.1001 -2.070534\n",
      "10044          -2.3059 -2.362929\n",
      "10521          -2.0161  0.397520\n",
      "11313          -2.3009 -2.256937\n",
      "11498          -2.0451 -2.242108\n",
      "11572          -0.9940 -1.528714\n",
      "12329          -1.0090 -0.977470\n",
      "12346          -2.1305 -2.440584\n",
      "12350           0.3101 -0.244125\n",
      "12420          -1.0090 -0.798961\n",
      "12927          -2.1007 -2.303075\n",
      "13154              NaN  0.580155\n",
      "13155          -0.5470 -1.050770\n",
      "14413          -1.0092 -1.528714\n"
     ]
    }
   ],
   "source": [
    "print(nan_indices)\n",
    "print(a_df.loc[nan_indices][['predicted_zmean', 'zmean']])\n",
    "print(b_df.loc[nan_indices][['predicted_zmean', 'zmean']])"
   ]
  },
  {
   "cell_type": "code",
   "execution_count": 8,
   "id": "b65497f5-6fb6-4ccd-affb-60156ad83dd6",
   "metadata": {},
   "outputs": [],
   "source": [
    "#Filter out NaN value\n",
    "a_df_cleaned = a_df.drop(index=nan_indices)\n",
    "b_df_cleaned = b_df.drop(index=nan_indices)\n",
    "\n",
    "a_df_cleaned.head()\n",
    "\n",
    "a_preds_clean = a_df_cleaned['predicted_zmean']\n",
    "b_preds_clean = b_df_cleaned['predicted_zmean']\n",
    "\n",
    "a_errors = (a_preds_clean - a_df_cleaned[\"zmean\"]).abs()\n",
    "b_errors = (b_preds_clean - b_df_cleaned[\"zmean\"]).abs()"
   ]
  },
  {
   "cell_type": "code",
   "execution_count": 9,
   "id": "0ed12a24-caed-492f-8c8d-a035e10ecc37",
   "metadata": {},
   "outputs": [],
   "source": [
    "error_differences = a_errors - b_errors"
   ]
  },
  {
   "cell_type": "code",
   "execution_count": 12,
   "id": "a04ab155-b0e9-4e48-805b-eaa542884911",
   "metadata": {},
   "outputs": [
    {
     "name": "stdout",
     "output_type": "stream",
     "text": [
      "K-S检验: 统计量=0.0639, p值=0.0000\n",
      "样本量: 14433\n",
      "差值均值: -0.134030\n",
      "差值标准差: 0.788146\n",
      "差值中位数: -0.074000\n"
     ]
    }
   ],
   "source": [
    "if len(error_differences) < 5000:\n",
    "    shapiro_stat, shapiro_p = stats.shapiro(error_differences)\n",
    "    print(f\"Shapiro-Wilk test: sample sum={shapiro_stat:.4f}, p value={shapiro_p:.4f}\")\n",
    "    if shapiro_p > 0.05:\n",
    "        print(\"The difference is approximately normally distributed: (p > 0.05)\")\n",
    "    else:\n",
    "        print(\"The differences may not be normally distributed: (p ≤ 0.05)\")\n",
    "\n",
    "ks_stat, ks_p = stats.kstest(error_differences, 'norm', \n",
    "                            args=(np.mean(error_differences), np.std(error_differences)))\n",
    "print(f\"K-S检验: 统计量={ks_stat:.4f}, p值={ks_p:.4f}\")\n",
    "print(f\"样本量: {len(error_differences)}\")\n",
    "print(f\"差值均值: {np.mean(error_differences):.6f}\")\n",
    "print(f\"差值标准差: {np.std(error_differences, ddof=1):.6f}\")\n",
    "print(f\"差值中位数: {np.median(error_differences):.6f}\")"
   ]
  },
  {
   "cell_type": "code",
   "execution_count": 13,
   "id": "a50c1245-3956-4974-b73b-3ca0d1d4c5d1",
   "metadata": {},
   "outputs": [
    {
     "data": {
      "image/png": "[encoded data removed]",
      "text/plain": [
       "<Figure size 1200x500 with 2 Axes>"
      ]
     },
     "metadata": {},
     "output_type": "display_data"
    }
   ],
   "source": [
    "# 可视化检验正态性\n",
    "fig, axes = plt.subplots(1, 2, figsize=(12, 5))\n",
    "\n",
    "# Q-Q图\n",
    "stats.probplot(error_differences, dist=\"norm\", plot=axes[0])\n",
    "axes[0].set_title(\"Q-Q Plot (Normal Distribution)\")\n",
    "axes[0].grid(True)\n",
    "\n",
    "# 直方图\n",
    "axes[1].hist(error_differences, bins=50, density=True, alpha=0.7, color='skyblue')\n",
    "axes[1].set_xlabel(\"Error Differences (Model A - Model B)\")\n",
    "axes[1].set_ylabel(\"Density\")\n",
    "axes[1].set_title(\"Distribution of Error Differences\")\n",
    "axes[1].grid(True)\n",
    "\n",
    "# 叠加正态分布曲线\n",
    "x = np.linspace(error_differences.min(), error_differences.max(), 100)\n",
    "normal_curve = stats.norm.pdf(x, np.mean(error_differences), np.std(error_differences))\n",
    "axes[1].plot(x, normal_curve, 'r-', linewidth=2, label='Normal Distribution')\n",
    "axes[1].legend()\n",
    "\n",
    "plt.tight_layout()\n",
    "plt.show()"
   ]
  },
  {
   "cell_type": "code",
   "execution_count": 14,
   "id": "e5683ba2-e646-4d48-8a85-3ca23ed998da",
   "metadata": {},
   "outputs": [
    {
     "name": "stdout",
     "output_type": "stream",
     "text": [
      "t统计量: -20.4302\n",
      "p值: 0.0000\n",
      "自由度: 14432\n",
      "\n",
      "=== 结果解释 ===\n",
      "平均误差差异: -0.134030\n",
      "95%置信区间: (-0.146889, -0.121170)\n"
     ]
    }
   ],
   "source": [
    "t_stat, p_value = stats.ttest_rel(a_errors, b_errors)\n",
    "print(f\"t统计量: {t_stat:.4f}\")\n",
    "print(f\"p值: {p_value:.4f}\")\n",
    "print(f\"自由度: {len(error_differences) - 1}\")\n",
    "mean_diff = np.mean(error_differences)\n",
    "std_diff = np.std(error_differences, ddof=1)\n",
    "se_diff = std_diff / np.sqrt(len(error_differences))\n",
    "t_critical = stats.t.ppf(0.975, len(error_differences) - 1)  # 95%置信区间\n",
    "ci_lower = mean_diff - t_critical * se_diff\n",
    "ci_upper = mean_diff + t_critical * se_diff\n",
    "print(f\"\\n=== 结果解释 ===\")\n",
    "print(f\"平均误差差异: {mean_diff:.6f}\")\n",
    "print(f\"95%置信区间: ({ci_lower:.6f}, {ci_upper:.6f})\")"
   ]
  },
  {
   "cell_type": "code",
   "execution_count": 15,
   "id": "01145bb9-4c6e-454b-9b11-b08e7df5fbfc",
   "metadata": {},
   "outputs": [
    {
     "name": "stdout",
     "output_type": "stream",
     "text": [
      "\n",
      "结论: p值(0.0000) < 0.05，拒绝零假设\n",
      "两个模型的预测精度存在显著差异\n",
      "模型A的平均误差显著小于模型B (模型A表现更好)\n",
      "\n",
      "Cohen's d (效应量): -0.1701\n",
      "效应量很小\n"
     ]
    }
   ],
   "source": [
    "alpha = 0.05\n",
    "if p_value < alpha:\n",
    "    print(f\"\\n结论: p值({p_value:.4f}) < {alpha}，拒绝零假设\")\n",
    "    print(\"两个模型的预测精度存在显著差异\")\n",
    "    if mean_diff > 0:\n",
    "        print(\"模型B的平均误差显著小于模型A (模型B表现更好)\")\n",
    "    else:\n",
    "        print(\"模型A的平均误差显著小于模型B (模型A表现更好)\")\n",
    "else:\n",
    "    print(f\"\\n结论: p值({p_value:.4f}) ≥ {alpha}，接受零假设\")\n",
    "    print(\"两个模型的预测精度无显著差异\")\n",
    "\n",
    "# 效应量 (Cohen's d)\n",
    "cohens_d = mean_diff / std_diff\n",
    "print(f\"\\nCohen's d (效应量): {cohens_d:.4f}\")\n",
    "if abs(cohens_d) < 0.2:\n",
    "    print(\"效应量很小\")\n",
    "elif abs(cohens_d) < 0.5:\n",
    "    print(\"效应量中等\")\n",
    "elif abs(cohens_d) < 0.8:\n",
    "    print(\"效应量较大\")\n",
    "else:\n",
    "    print(\"效应量很大\")"
   ]
  },
  {
   "cell_type": "code",
   "execution_count": 28,
   "id": "7dc39db9-0fb7-45f2-88f7-3a2ede854488",
   "metadata": {},
   "outputs": [
    {
     "name": "stdout",
     "output_type": "stream",
     "text": [
      "T-statistic: -20.43018495144714\n",
      "P-value: 1.7664962193159063e-91\n"
     ]
    }
   ],
   "source": [
    "t_stat, p_value = ttest_rel(a_errors, b_errors)\n",
    "print(f\"T-statistic: {t_stat}\")\n",
    "print(f\"P-value: {p_value}\")\n"
   ]
  },
  {
   "cell_type": "markdown",
   "id": "7660b269-17b1-4d00-8651-6e40861a484a",
   "metadata": {},
   "source": [
    "## Pearson r by ranges"
   ]
  },
  {
   "cell_type": "code",
   "execution_count": 29,
   "id": "e3400536-bfb4-453b-8bac-525fb7598f47",
   "metadata": {},
   "outputs": [],
   "source": [
    "import pandas as pd\n",
    "import numpy as np\n",
    "from scipy.stats import pearsonr\n",
    "from sklearn.metrics import mean_squared_error"
   ]
  },
  {
   "cell_type": "code",
   "execution_count": 30,
   "id": "cd93c66b-2def-4193-b05f-4cd979bc4268",
   "metadata": {},
   "outputs": [],
   "source": [
    "a_df = pd.read_csv(\"results_with_code_that_finally_works/test_predictions_ground_truth_0.45.tsv\", sep=\"\\t\")\n",
    "b_df = pd.read_csv(\"results_with_code_that_finally_works/test_predictions_with_reasonings_0.48.tsv\", sep=\"\\t\")"
   ]
  },
  {
   "cell_type": "code",
   "execution_count": 43,
   "id": "a89a2bc8-0968-4446-b3ae-6a853d2e709d",
   "metadata": {},
   "outputs": [],
   "source": [
    "def get_quality_range(z):\n",
    "    if z > 2.0:\n",
    "        return \"High Quality in long tail end (>2.0)\"\n",
    "    elif z > 1.0 and z <= 2.0:\n",
    "        return \"High Quality in range (1.0~2.0]\"\n",
    "    elif z > 0.0 and z <= 1.0:\n",
    "        return \"Medium High Quality (0.0~1.0]\"\n",
    "    elif z > -1.0 and z<= 0.0:\n",
    "        return \"Medium Low Quality (-1.0~0.0]\"\n",
    "    elif z > -2.0 and z <= -1.0:\n",
    "        return \"Low Quality (-2.0~-1.0]\"\n",
    "    else:\n",
    "        return \"Very Low Quality (<=-2.0)\""
   ]
  },
  {
   "cell_type": "code",
   "execution_count": 44,
   "id": "13bbd72f-087c-42f8-81e2-6fc692bc385a",
   "metadata": {},
   "outputs": [],
   "source": [
    "a_df[\"quality_range\"] = a_df[\"zmean\"].apply(get_quality_range)\n",
    "b_df[\"quality_range\"] = b_df[\"zmean\"].apply(get_quality_range)"
   ]
  },
  {
   "cell_type": "code",
   "execution_count": 45,
   "id": "0a27b3e0-1204-4485-a1e6-995f224fdffa",
   "metadata": {},
   "outputs": [],
   "source": [
    "def analyze_by_range(df, model_name):\n",
    "    results = []\n",
    "    for r, group in df.groupby(\"quality_range\"):\n",
    "        original_samples = len(group)\n",
    "        group = group.dropna(subset=[\"predicted_zmean\", \"zmean\"])\n",
    "        clean_samples = len(group)\n",
    "        removed_samples = original_samples - clean_samples\n",
    "        if clean_samples < 2:  #Number of samples insufficient\n",
    "            pearson_val = np.nan\n",
    "        else:\n",
    "            pearson_val, _ = pearsonr(group[\"predicted_zmean\"], group[\"zmean\"])\n",
    "        rmse_val = np.sqrt(mean_squared_error(group[\"zmean\"], group[\"predicted_zmean\"]))\n",
    "        results.append({\n",
    "            \"Quality Range\": r,\n",
    "            \"Original Samples\": original_samples,\n",
    "            \"Removed NaN Samples\": removed_samples,\n",
    "            \"Final Samples\": clean_samples,\n",
    "            f\"{model_name} Pearson r\": pearson_val,\n",
    "            f\"{model_name} RMSE\": rmse_val\n",
    "        })\n",
    "    return pd.DataFrame(results)"
   ]
  },
  {
   "cell_type": "code",
   "execution_count": 46,
   "id": "bf5c8c55-b1fa-4283-8f28-20a92cf790fb",
   "metadata": {},
   "outputs": [],
   "source": [
    "a_results = analyze_by_range(a_df, \"Gold Label\")\n",
    "b_results = analyze_by_range(b_df, \"GPT Reasoning\")"
   ]
  },
  {
   "cell_type": "code",
   "execution_count": 49,
   "id": "b87751c3-2ab3-43c1-9c4b-a3f3346a9a05",
   "metadata": {},
   "outputs": [
    {
     "name": "stdout",
     "output_type": "stream",
     "text": [
      "                          Quality Range  Original Samples  \\\n",
      "0  High Quality in long tail end (>2.0)                57   \n",
      "1       High Quality in range (1.0~2.0]               829   \n",
      "3         Medium High Quality (0.0~1.0]              7553   \n",
      "4         Medium Low Quality (-1.0~0.0]              4177   \n",
      "2               Low Quality (-2.0~-1.0]              1551   \n",
      "5             Very Low Quality (<=-2.0)               310   \n",
      "\n",
      "   Removed NaN Samples  Final Samples  Gold Label Pearson r  Gold Label RMSE  \n",
      "0                    0             57              0.229452         1.376943  \n",
      "1                    0            829              0.126990         0.645032  \n",
      "3                    6           7547              0.348242         0.493927  \n",
      "4                   11           4166              0.096448         0.811964  \n",
      "2                    7           1544              0.195663         1.434637  \n",
      "5                   16            294             -0.199141         2.442445  \n"
     ]
    }
   ],
   "source": [
    "bracket_order = [\n",
    "    \"High Quality in long tail end (>2.0)\",\n",
    "    \"High Quality in range (1.0~2.0]\",\n",
    "    \"Medium High Quality (0.0~1.0]\",\n",
    "    \"Medium Low Quality (-1.0~0.0]\",\n",
    "    \"Low Quality (-2.0~-1.0]\",\n",
    "    \"Very Low Quality (<=-2.0)\"\n",
    "]\n",
    "a_results[\"Quality Range\"] = pd.Categorical(a_results[\"Quality Range\"], categories=bracket_order, ordered=True)\n",
    "a_results = a_results.sort_values(\"Quality Range\")\n",
    "print(a_results)"
   ]
  },
  {
   "cell_type": "code",
   "execution_count": 50,
   "id": "475034c3-cbf2-4691-8948-3232bdb2fa82",
   "metadata": {},
   "outputs": [
    {
     "name": "stdout",
     "output_type": "stream",
     "text": [
      "                          Quality Range  Original Samples  \\\n",
      "0  High Quality in long tail end (>2.0)                57   \n",
      "1       High Quality in range (1.0~2.0]               829   \n",
      "3         Medium High Quality (0.0~1.0]              7553   \n",
      "4         Medium Low Quality (-1.0~0.0]              4177   \n",
      "2               Low Quality (-2.0~-1.0]              1551   \n",
      "5             Very Low Quality (<=-2.0)               310   \n",
      "\n",
      "   Removed NaN Samples  Final Samples  GPT Reasoning Pearson r  \\\n",
      "0                    0             57                 0.490130   \n",
      "1                    0            829                 0.018229   \n",
      "3                    3           7550                 0.179718   \n",
      "4                    1           4176                 0.258838   \n",
      "2                    0           1551                 0.189614   \n",
      "5                    0            310                -0.195312   \n",
      "\n",
      "   GPT Reasoning RMSE  \n",
      "0            2.146315  \n",
      "1            1.354755  \n",
      "3            0.933978  \n",
      "4            0.900902  \n",
      "2            0.910706  \n",
      "5            1.700940  \n"
     ]
    }
   ],
   "source": [
    "b_results[\"Quality Range\"] = pd.Categorical(b_results[\"Quality Range\"], categories=bracket_order, ordered=True)\n",
    "b_results = b_results.sort_values(\"Quality Range\")\n",
    "print(b_results)"
   ]
  },
  {
   "cell_type": "markdown",
   "id": "3c24345f-29ad-4795-9773-0c3f37d6b71c",
   "metadata": {},
   "source": [
    "## Pearson r by sentence length"
   ]
  },
  {
   "cell_type": "code",
   "execution_count": 57,
   "id": "dbb23ac4-8013-43ee-9ec8-151fa37a0871",
   "metadata": {},
   "outputs": [
    {
     "name": "stdout",
     "output_type": "stream",
     "text": [
      "Length at 33% percentile: 12.0, 66% percentile: 18.0\n",
      "Shortest sentence: 1, Longest sentence: 127, Average Length: 16.44\n",
      "Shortest sentence: БОГ=ЖИЗНЬ-ИСТИНА\n",
      "Longest sentence: Having regard to the total scenario emerging from the record of the case and the findings recorded by the Courts below on the issues such as location of land, its potentiality, surroundings, the rate of the adjacent land determined by the Courts, the condition of the acquired underdeveloped lands, the expenditure required to develop the acquired land to start the activities, per cent of deductions to be made, its proximity to the various places in the nearby town (Faridabad), and lastly, the fact that the appellants failed to file any sale deed of any parcel of land (be that of small piece of land or big) sold in the near proximity of the acquired land, the fair market value of the lands in question as on 04.11.1977\n"
     ]
    }
   ],
   "source": [
    "a_df = a_df.dropna(subset=[\"src\", \"predicted_zmean\", \"zmean\"]).copy()\n",
    "b_df = b_df.dropna(subset=[\"src\", \"predicted_zmean\", \"zmean\"]).copy()\n",
    "\n",
    "a_df[\"src_len\"] = a_df[\"src\"].apply(lambda x: len(str(x).split()))\n",
    "b_df[\"src_len\"] = b_df[\"src\"].apply(lambda x: len(str(x).split()))\n",
    "\n",
    "q33 = a_df[\"src_len\"].quantile(0.33)\n",
    "q66 = a_df[\"src_len\"].quantile(0.66)\n",
    "\n",
    "print(f\"Length at 33% percentile: {q33}, 66% percentile: {q66}\")\n",
    "print(f\"Shortest sentence: {a_df['src_len'].min()}, Longest sentence: {a_df['src_len'].max()}, Average Length: {a_df['src_len'].mean():.2f}\")\n",
    "print(\"Shortest sentence:\", a_df.loc[shortest_idx, \"src\"])\n",
    "print(\"Longest sentence:\", a_df.loc[longest_idx, \"src\"])"
   ]
  },
  {
   "cell_type": "code",
   "execution_count": 58,
   "id": "756e4a39-1f8d-43c1-801b-de83ee3d375c",
   "metadata": {},
   "outputs": [],
   "source": [
    "def length_bracket(length):\n",
    "    if length <= q33:\n",
    "        return \"Short\"\n",
    "    elif length <= q66:\n",
    "        return \"Medium\"\n",
    "    else:\n",
    "        return \"Long\"\n",
    "\n",
    "a_df[\"length_group\"] = a_df[\"src_len\"].apply(length_bracket)\n",
    "b_df[\"length_group\"] = b_df[\"src_len\"].apply(length_bracket)"
   ]
  },
  {
   "cell_type": "code",
   "execution_count": 60,
   "id": "030c8e5f-017e-45d0-aef9-24efffd1ebea",
   "metadata": {},
   "outputs": [
    {
     "name": "stdout",
     "output_type": "stream",
     "text": [
      "\n",
      "Metrices for Model finetuned with Gold lable:\n"
     ]
    },
    {
     "data": {
      "text/html": [
       "<div>\n",
       "<style scoped>\n",
       "    .dataframe tbody tr th:only-of-type {\n",
       "        vertical-align: middle;\n",
       "    }\n",
       "\n",
       "    .dataframe tbody tr th {\n",
       "        vertical-align: top;\n",
       "    }\n",
       "\n",
       "    .dataframe thead th {\n",
       "        text-align: right;\n",
       "    }\n",
       "</style>\n",
       "<table border=\"1\" class=\"dataframe\">\n",
       "  <thead>\n",
       "    <tr style=\"text-align: right;\">\n",
       "      <th></th>\n",
       "      <th>Group</th>\n",
       "      <th>Samples</th>\n",
       "      <th>Pearson r</th>\n",
       "      <th>RMSE</th>\n",
       "    </tr>\n",
       "  </thead>\n",
       "  <tbody>\n",
       "    <tr>\n",
       "      <th>0</th>\n",
       "      <td>Long</td>\n",
       "      <td>4721</td>\n",
       "      <td>0.3952</td>\n",
       "      <td>0.7347</td>\n",
       "    </tr>\n",
       "    <tr>\n",
       "      <th>1</th>\n",
       "      <td>Medium</td>\n",
       "      <td>4168</td>\n",
       "      <td>0.4289</td>\n",
       "      <td>0.8513</td>\n",
       "    </tr>\n",
       "    <tr>\n",
       "      <th>2</th>\n",
       "      <td>Short</td>\n",
       "      <td>5548</td>\n",
       "      <td>0.4964</td>\n",
       "      <td>0.8909</td>\n",
       "    </tr>\n",
       "  </tbody>\n",
       "</table>\n",
       "</div>"
      ],
      "text/plain": [
       "    Group  Samples  Pearson r    RMSE\n",
       "0    Long     4721     0.3952  0.7347\n",
       "1  Medium     4168     0.4289  0.8513\n",
       "2   Short     5548     0.4964  0.8909"
      ]
     },
     "metadata": {},
     "output_type": "display_data"
    },
    {
     "name": "stdout",
     "output_type": "stream",
     "text": [
      "\n",
      "Metrices for Model finetuned with GPT Reasoning:\n"
     ]
    },
    {
     "data": {
      "text/html": [
       "<div>\n",
       "<style scoped>\n",
       "    .dataframe tbody tr th:only-of-type {\n",
       "        vertical-align: middle;\n",
       "    }\n",
       "\n",
       "    .dataframe tbody tr th {\n",
       "        vertical-align: top;\n",
       "    }\n",
       "\n",
       "    .dataframe thead th {\n",
       "        text-align: right;\n",
       "    }\n",
       "</style>\n",
       "<table border=\"1\" class=\"dataframe\">\n",
       "  <thead>\n",
       "    <tr style=\"text-align: right;\">\n",
       "      <th></th>\n",
       "      <th>Group</th>\n",
       "      <th>Samples</th>\n",
       "      <th>Pearson r</th>\n",
       "      <th>RMSE</th>\n",
       "    </tr>\n",
       "  </thead>\n",
       "  <tbody>\n",
       "    <tr>\n",
       "      <th>0</th>\n",
       "      <td>Long</td>\n",
       "      <td>4742</td>\n",
       "      <td>0.4526</td>\n",
       "      <td>0.8773</td>\n",
       "    </tr>\n",
       "    <tr>\n",
       "      <th>1</th>\n",
       "      <td>Medium</td>\n",
       "      <td>4181</td>\n",
       "      <td>0.4635</td>\n",
       "      <td>1.0042</td>\n",
       "    </tr>\n",
       "    <tr>\n",
       "      <th>2</th>\n",
       "      <td>Short</td>\n",
       "      <td>5550</td>\n",
       "      <td>0.5173</td>\n",
       "      <td>1.0463</td>\n",
       "    </tr>\n",
       "  </tbody>\n",
       "</table>\n",
       "</div>"
      ],
      "text/plain": [
       "    Group  Samples  Pearson r    RMSE\n",
       "0    Long     4742     0.4526  0.8773\n",
       "1  Medium     4181     0.4635  1.0042\n",
       "2   Short     5550     0.5173  1.0463"
      ]
     },
     "metadata": {},
     "output_type": "display_data"
    }
   ],
   "source": [
    "import math\n",
    "def calc_metrics(df):\n",
    "    results = []\n",
    "    for group, sub_df in df.groupby(\"length_group\"):\n",
    "        if len(sub_df) > 1:\n",
    "            r, _ = pearsonr(sub_df[\"predicted_zmean\"], sub_df[\"zmean\"])\n",
    "            rmse = math.sqrt(mean_squared_error(sub_df[\"zmean\"], sub_df[\"predicted_zmean\"]))\n",
    "            results.append({\n",
    "                \"Group\": group,\n",
    "                \"Samples\": len(sub_df),\n",
    "                \"Pearson r\": round(r, 4),\n",
    "                \"RMSE\": round(rmse, 4)\n",
    "            })\n",
    "    return pd.DataFrame(results)\n",
    "\n",
    "print(\"\\nMetrices for Model finetuned with Gold lable:\")\n",
    "display(calc_metrics(a_df))\n",
    "\n",
    "print(\"\\nMetrices for Model finetuned with GPT Reasoning:\")\n",
    "display(calc_metrics(b_df))"
   ]
  },
  {
   "cell_type": "markdown",
   "id": "91ab9b92-57f9-48b4-9763-0efb0482807b",
   "metadata": {},
   "source": [
    "## Qualitative Cases"
   ]
  },
  {
   "cell_type": "code",
   "execution_count": 66,
   "id": "8ab4e6e5-6424-49e4-9bc3-3c30b97abeea",
   "metadata": {},
   "outputs": [],
   "source": [
    "#NaN values are already dropped in cell 57\n",
    "a_df[\"diff_gold\"] = a_df[\"predicted_zmean\"] - a_df[\"zmean\"]\n",
    "b_df[\"diff_gold\"] = b_df[\"predicted_zmean\"] - b_df[\"zmean\"]\n",
    "\n",
    "b_subset = b_df[[\"src\", \"predicted_zmean\", \"diff_gold\", \"gpt_explanation\", \"index\", \"source_file\", \"mt\", \"zmean\"]].copy()\n",
    "a_subset = a_df[[\"src\", \"predicted_zmean\", \"diff_gold\", \"index\", \"source_file\", \"mt\", \"zmean\"]].copy()\n",
    "\n",
    "#calculate overestimation\n",
    "overestimation_a = a_df.sort_values(by=\"diff_gold\", ascending=False).head(20)\n",
    "overestimation_b = b_df.sort_values(by=\"diff_gold\", ascending=False).head(20)\n",
    "\n",
    "#calculate underestimation\n",
    "underestimation_a = a_df.sort_values(by=\"diff_gold\", ascending=True).head(20)\n",
    "underestimation_b = b_df.sort_values(by=\"diff_gold\", ascending=True).head(20)\n",
    "\n",
    "merged_df = a_df.merge(\n",
    "    b_subset,\n",
    "    on=\"src\",\n",
    "    suffixes=(\"_baseline\", \"_enhanced\"),\n",
    "    how=\"inner\"\n",
    ")"
   ]
  },
  {
   "cell_type": "code",
   "execution_count": 71,
   "id": "3548d8f8-82b4-406e-ab60-ca29c3546181",
   "metadata": {},
   "outputs": [
    {
     "name": "stdout",
     "output_type": "stream",
     "text": [
      "['index_baseline', 'src', 'mt_baseline', 'zmean_baseline', 'source_file_baseline', 'root_folder', 'file_type', 'global_index', 'predicted_zmean_baseline', 'quality_range', 'src_len', 'length_group', 'diff_gold_baseline', 'predicted_zmean_enhanced', 'diff_gold_enhanced', 'gpt_explanation', 'index_enhanced', 'source_file_enhanced', 'mt_enhanced', 'zmean_enhanced', 'abs_diff_models']\n"
     ]
    }
   ],
   "source": [
    "merged_df[\"abs_diff_models\"] = (merged_df[\"predicted_zmean_baseline\"] - merged_df[\"predicted_zmean_enhanced\"]).abs()\n",
    "\n",
    "largest_disagreement = merged_df.sort_values(by=\"abs_diff_models\", ascending=False).head(20)\n",
    "print(largest_disagreement.columns.tolist())\n",
    "# 定义保存列，包含idx和source_file，以及GPT理由\n",
    "cols_a = [\"index\", \"source_file\", \"src\", \"mt\", \"zmean\", \"predicted_zmean\", \"diff_gold\"]\n",
    "cols_b = [\"index\", \"source_file\", \"src\", \"mt\", \"zmean\", \"predicted_zmean\", \"diff_gold\", \"gpt_explanation\"]\n",
    "cols_disagreement = [\n",
    "    \"index_baseline\", \"source_file_baseline\", \"src\", \"mt_baseline\", \"zmean_baseline\",\n",
    "    \"predicted_zmean_baseline\", \"predicted_zmean_enhanced\", \"abs_diff_models\", \"gpt_explanation\"\n",
    "]\n",
    "\n",
    "# 保存TSV\n",
    "overestimation_a.to_csv(\"overestimation_baseline.tsv\", sep=\"\\t\", index=False, columns=cols_a)\n",
    "overestimation_b.to_csv(\"overestimation_enhanced.tsv\", sep=\"\\t\", index=False, columns=cols_b)\n",
    "\n",
    "underestimation_a.to_csv(\"underestimation_baseline.tsv\", sep=\"\\t\", index=False, columns=cols_a)\n",
    "underestimation_b.to_csv(\"underestimation_enhanced.tsv\", sep=\"\\t\", index=False, columns=cols_b)\n",
    "\n",
    "largest_disagreement.to_csv(\"largest_disagreement.tsv\", sep=\"\\t\", index=False, columns=cols_disagreement)\n"
   ]
  },
  {
   "cell_type": "markdown",
   "id": "c1e9753f-ef4e-4db2-a351-9e5939e5a1b6",
   "metadata": {},
   "source": [
    "## Pearson r by language pairs"
   ]
  },
  {
   "cell_type": "code",
   "execution_count": 74,
   "id": "d3445aab-09d0-4e4e-8266-1aa46c84645e",
   "metadata": {},
   "outputs": [],
   "source": [
    "a_df = pd.read_csv(\"results_with_code_that_finally_works/test_predictions_ground_truth_0.45.tsv\", sep=\"\\t\")\n",
    "b_df = pd.read_csv(\"results_with_code_that_finally_works/test_predictions_with_reasonings_0.48.tsv\", sep=\"\\t\")\n",
    "\n",
    "cols_needed = [\"source_file\", \"zmean\", \"predicted_zmean\"]\n",
    "a_sub = a_df[cols_needed].dropna(subset=[\"zmean\", \"predicted_zmean\"])\n",
    "b_sub = b_df[cols_needed].dropna(subset=[\"zmean\", \"predicted_zmean\"])"
   ]
  },
  {
   "cell_type": "code",
   "execution_count": 75,
   "id": "36bc5853-51e9-41ff-96da-38f66f9337f6",
   "metadata": {},
   "outputs": [],
   "source": [
    "def group_stats(df):\n",
    "    results = []\n",
    "    for name, group in df.groupby(\"source_file\"):\n",
    "        n = len(group)\n",
    "        if n > 1:  # pearson需要至少两个点\n",
    "            r, _ = pearsonr(group[\"zmean\"], group[\"predicted_zmean\"])\n",
    "        else:\n",
    "            r = float(\"nan\")\n",
    "        results.append({\"source_file\": name, \"count\": n, \"pearson_r\": r})\n",
    "    return pd.DataFrame(results)\n",
    "\n",
    "a_stats = group_stats(a_sub)\n",
    "b_stats = group_stats(b_sub)"
   ]
  },
  {
   "cell_type": "code",
   "execution_count": 77,
   "id": "2915346e-ada9-4f86-846e-6d532fd25291",
   "metadata": {},
   "outputs": [
    {
     "name": "stdout",
     "output_type": "stream",
     "text": [
      "Baseline Model (Gold Label) Performance by Language Pair:\n",
      "source_file  count  pearson_r\n",
      "  en-de.tsv   1400   0.081805\n",
      "  en-gu.tsv    675   0.375894\n",
      "  en-hi.tsv    655   0.315941\n",
      "  en-mr.tsv   2652   0.366670\n",
      "  en-ta.tsv    705   0.425977\n",
      "  en-te.tsv    706   0.080367\n",
      "  en-zh.tsv   1366   0.507025\n",
      "  et-en.tsv    705   0.509053\n",
      "  ne-en.tsv   1365   0.537047\n",
      "  ro-en.tsv   1350   0.692922\n",
      "  ru-en.tsv   1433   0.682165\n",
      "  si-en.tsv   1425   0.350038\n",
      "\n",
      "Enhanced Model (GPT Reasoning) Performance by Language Pair:\n",
      "source_file  count  pearson_r\n",
      "  en-de.tsv   1398   0.135039\n",
      "  en-gu.tsv    676   0.483682\n",
      "  en-hi.tsv    655   0.482421\n",
      "  en-mr.tsv   2652   0.494109\n",
      "  en-ta.tsv    705   0.537659\n",
      "  en-te.tsv    709   0.175382\n",
      "  en-zh.tsv   1371   0.444677\n",
      "  et-en.tsv    709   0.594468\n",
      "  ne-en.tsv   1365   0.442689\n",
      "  ro-en.tsv   1370   0.719872\n",
      "  ru-en.tsv   1438   0.754611\n",
      "  si-en.tsv   1425   0.519807\n"
     ]
    }
   ],
   "source": [
    "print(\"Baseline Model (Gold Label) Performance by Language Pair:\")\n",
    "print(a_stats.sort_values(\"source_file\").to_string(index=False))\n",
    "\n",
    "print(\"\\nEnhanced Model (GPT Reasoning) Performance by Language Pair:\")\n",
    "print(b_stats.sort_values(\"source_file\").to_string(index=False))"
   ]
  },
  {
   "cell_type": "code",
   "execution_count": null,
   "id": "fc53b4ce-4b73-40ef-acae-6841b6a0ee6f",
   "metadata": {},
   "outputs": [],
   "source": []
  }
 ],
 "metadata": {
  "kernelspec": {
   "display_name": "Python 3 (ipykernel)",
   "language": "python",
   "name": "python3"
  },
  "language_info": {
   "codemirror_mode": {
    "name": "ipython",
    "version": 3
   },
   "file_extension": ".py",
   "mimetype": "text/x-python",
   "name": "python",
   "nbconvert_exporter": "python",
   "pygments_lexer": "ipython3",
   "version": "3.12.7"
  }
 },
 "nbformat": 4,
 "nbformat_minor": 5
}
